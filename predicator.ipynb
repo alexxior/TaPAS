{
  "nbformat": 4,
  "nbformat_minor": 0,
  "metadata": {
    "colab": {
      "provenance": [],
      "authorship_tag": "ABX9TyOszjjkK8ecXqo3VaPU/FZX",
      "include_colab_link": true
    },
    "kernelspec": {
      "name": "python3",
      "display_name": "Python 3"
    },
    "language_info": {
      "name": "python"
    }
  },
  "cells": [
    {
      "cell_type": "markdown",
      "metadata": {
        "id": "view-in-github",
        "colab_type": "text"
      },
      "source": [
        "<a href=\"https://colab.research.google.com/github/alexxior/TaPAS/blob/alex_dev/predicator.ipynb\" target=\"_parent\"><img src=\"https://colab.research.google.com/assets/colab-badge.svg\" alt=\"Open In Colab\"/></a>"
      ]
    },
    {
      "cell_type": "code",
      "source": [
        "%pip install openwind\n",
        "%pip install tensorflow\n",
        "%pip install keras"
      ],
      "metadata": {
        "colab": {
          "base_uri": "https://localhost:8080/"
        },
        "id": "xjfzh_DQE6L1",
        "outputId": "16bd9e3d-34ff-4b3b-bb66-9dcf8ccd45ce"
      },
      "execution_count": 1,
      "outputs": [
        {
          "output_type": "stream",
          "name": "stdout",
          "text": [
            "Collecting openwind\n",
            "  Downloading openwind-0.11.2-py3-none-any.whl (341 kB)\n",
            "\u001b[2K     \u001b[90m━━━━━━━━━━━━━━━━━━━━━━━━━━━━━━━━━━━━━━━━\u001b[0m \u001b[32m341.4/341.4 kB\u001b[0m \u001b[31m2.5 MB/s\u001b[0m eta \u001b[36m0:00:00\u001b[0m\n",
            "\u001b[?25hRequirement already satisfied: h5py in /usr/local/lib/python3.10/dist-packages (from openwind) (3.9.0)\n",
            "Requirement already satisfied: matplotlib in /usr/local/lib/python3.10/dist-packages (from openwind) (3.7.1)\n",
            "Requirement already satisfied: numpy in /usr/local/lib/python3.10/dist-packages (from openwind) (1.25.2)\n",
            "Requirement already satisfied: scipy in /usr/local/lib/python3.10/dist-packages (from openwind) (1.11.4)\n",
            "Requirement already satisfied: contourpy>=1.0.1 in /usr/local/lib/python3.10/dist-packages (from matplotlib->openwind) (1.2.1)\n",
            "Requirement already satisfied: cycler>=0.10 in /usr/local/lib/python3.10/dist-packages (from matplotlib->openwind) (0.12.1)\n",
            "Requirement already satisfied: fonttools>=4.22.0 in /usr/local/lib/python3.10/dist-packages (from matplotlib->openwind) (4.51.0)\n",
            "Requirement already satisfied: kiwisolver>=1.0.1 in /usr/local/lib/python3.10/dist-packages (from matplotlib->openwind) (1.4.5)\n",
            "Requirement already satisfied: packaging>=20.0 in /usr/local/lib/python3.10/dist-packages (from matplotlib->openwind) (24.0)\n",
            "Requirement already satisfied: pillow>=6.2.0 in /usr/local/lib/python3.10/dist-packages (from matplotlib->openwind) (9.4.0)\n",
            "Requirement already satisfied: pyparsing>=2.3.1 in /usr/local/lib/python3.10/dist-packages (from matplotlib->openwind) (3.1.2)\n",
            "Requirement already satisfied: python-dateutil>=2.7 in /usr/local/lib/python3.10/dist-packages (from matplotlib->openwind) (2.8.2)\n",
            "Requirement already satisfied: six>=1.5 in /usr/local/lib/python3.10/dist-packages (from python-dateutil>=2.7->matplotlib->openwind) (1.16.0)\n",
            "Installing collected packages: openwind\n",
            "Successfully installed openwind-0.11.2\n",
            "Requirement already satisfied: tensorflow in /usr/local/lib/python3.10/dist-packages (2.15.0)\n",
            "Requirement already satisfied: absl-py>=1.0.0 in /usr/local/lib/python3.10/dist-packages (from tensorflow) (1.4.0)\n",
            "Requirement already satisfied: astunparse>=1.6.0 in /usr/local/lib/python3.10/dist-packages (from tensorflow) (1.6.3)\n",
            "Requirement already satisfied: flatbuffers>=23.5.26 in /usr/local/lib/python3.10/dist-packages (from tensorflow) (24.3.25)\n",
            "Requirement already satisfied: gast!=0.5.0,!=0.5.1,!=0.5.2,>=0.2.1 in /usr/local/lib/python3.10/dist-packages (from tensorflow) (0.5.4)\n",
            "Requirement already satisfied: google-pasta>=0.1.1 in /usr/local/lib/python3.10/dist-packages (from tensorflow) (0.2.0)\n",
            "Requirement already satisfied: h5py>=2.9.0 in /usr/local/lib/python3.10/dist-packages (from tensorflow) (3.9.0)\n",
            "Requirement already satisfied: libclang>=13.0.0 in /usr/local/lib/python3.10/dist-packages (from tensorflow) (18.1.1)\n",
            "Requirement already satisfied: ml-dtypes~=0.2.0 in /usr/local/lib/python3.10/dist-packages (from tensorflow) (0.2.0)\n",
            "Requirement already satisfied: numpy<2.0.0,>=1.23.5 in /usr/local/lib/python3.10/dist-packages (from tensorflow) (1.25.2)\n",
            "Requirement already satisfied: opt-einsum>=2.3.2 in /usr/local/lib/python3.10/dist-packages (from tensorflow) (3.3.0)\n",
            "Requirement already satisfied: packaging in /usr/local/lib/python3.10/dist-packages (from tensorflow) (24.0)\n",
            "Requirement already satisfied: protobuf!=4.21.0,!=4.21.1,!=4.21.2,!=4.21.3,!=4.21.4,!=4.21.5,<5.0.0dev,>=3.20.3 in /usr/local/lib/python3.10/dist-packages (from tensorflow) (3.20.3)\n",
            "Requirement already satisfied: setuptools in /usr/local/lib/python3.10/dist-packages (from tensorflow) (67.7.2)\n",
            "Requirement already satisfied: six>=1.12.0 in /usr/local/lib/python3.10/dist-packages (from tensorflow) (1.16.0)\n",
            "Requirement already satisfied: termcolor>=1.1.0 in /usr/local/lib/python3.10/dist-packages (from tensorflow) (2.4.0)\n",
            "Requirement already satisfied: typing-extensions>=3.6.6 in /usr/local/lib/python3.10/dist-packages (from tensorflow) (4.11.0)\n",
            "Requirement already satisfied: wrapt<1.15,>=1.11.0 in /usr/local/lib/python3.10/dist-packages (from tensorflow) (1.14.1)\n",
            "Requirement already satisfied: tensorflow-io-gcs-filesystem>=0.23.1 in /usr/local/lib/python3.10/dist-packages (from tensorflow) (0.37.0)\n",
            "Requirement already satisfied: grpcio<2.0,>=1.24.3 in /usr/local/lib/python3.10/dist-packages (from tensorflow) (1.63.0)\n",
            "Requirement already satisfied: tensorboard<2.16,>=2.15 in /usr/local/lib/python3.10/dist-packages (from tensorflow) (2.15.2)\n",
            "Requirement already satisfied: tensorflow-estimator<2.16,>=2.15.0 in /usr/local/lib/python3.10/dist-packages (from tensorflow) (2.15.0)\n",
            "Requirement already satisfied: keras<2.16,>=2.15.0 in /usr/local/lib/python3.10/dist-packages (from tensorflow) (2.15.0)\n",
            "Requirement already satisfied: wheel<1.0,>=0.23.0 in /usr/local/lib/python3.10/dist-packages (from astunparse>=1.6.0->tensorflow) (0.43.0)\n",
            "Requirement already satisfied: google-auth<3,>=1.6.3 in /usr/local/lib/python3.10/dist-packages (from tensorboard<2.16,>=2.15->tensorflow) (2.27.0)\n",
            "Requirement already satisfied: google-auth-oauthlib<2,>=0.5 in /usr/local/lib/python3.10/dist-packages (from tensorboard<2.16,>=2.15->tensorflow) (1.2.0)\n",
            "Requirement already satisfied: markdown>=2.6.8 in /usr/local/lib/python3.10/dist-packages (from tensorboard<2.16,>=2.15->tensorflow) (3.6)\n",
            "Requirement already satisfied: requests<3,>=2.21.0 in /usr/local/lib/python3.10/dist-packages (from tensorboard<2.16,>=2.15->tensorflow) (2.31.0)\n",
            "Requirement already satisfied: tensorboard-data-server<0.8.0,>=0.7.0 in /usr/local/lib/python3.10/dist-packages (from tensorboard<2.16,>=2.15->tensorflow) (0.7.2)\n",
            "Requirement already satisfied: werkzeug>=1.0.1 in /usr/local/lib/python3.10/dist-packages (from tensorboard<2.16,>=2.15->tensorflow) (3.0.2)\n",
            "Requirement already satisfied: cachetools<6.0,>=2.0.0 in /usr/local/lib/python3.10/dist-packages (from google-auth<3,>=1.6.3->tensorboard<2.16,>=2.15->tensorflow) (5.3.3)\n",
            "Requirement already satisfied: pyasn1-modules>=0.2.1 in /usr/local/lib/python3.10/dist-packages (from google-auth<3,>=1.6.3->tensorboard<2.16,>=2.15->tensorflow) (0.4.0)\n",
            "Requirement already satisfied: rsa<5,>=3.1.4 in /usr/local/lib/python3.10/dist-packages (from google-auth<3,>=1.6.3->tensorboard<2.16,>=2.15->tensorflow) (4.9)\n",
            "Requirement already satisfied: requests-oauthlib>=0.7.0 in /usr/local/lib/python3.10/dist-packages (from google-auth-oauthlib<2,>=0.5->tensorboard<2.16,>=2.15->tensorflow) (1.3.1)\n",
            "Requirement already satisfied: charset-normalizer<4,>=2 in /usr/local/lib/python3.10/dist-packages (from requests<3,>=2.21.0->tensorboard<2.16,>=2.15->tensorflow) (3.3.2)\n",
            "Requirement already satisfied: idna<4,>=2.5 in /usr/local/lib/python3.10/dist-packages (from requests<3,>=2.21.0->tensorboard<2.16,>=2.15->tensorflow) (3.7)\n",
            "Requirement already satisfied: urllib3<3,>=1.21.1 in /usr/local/lib/python3.10/dist-packages (from requests<3,>=2.21.0->tensorboard<2.16,>=2.15->tensorflow) (2.0.7)\n",
            "Requirement already satisfied: certifi>=2017.4.17 in /usr/local/lib/python3.10/dist-packages (from requests<3,>=2.21.0->tensorboard<2.16,>=2.15->tensorflow) (2024.2.2)\n",
            "Requirement already satisfied: MarkupSafe>=2.1.1 in /usr/local/lib/python3.10/dist-packages (from werkzeug>=1.0.1->tensorboard<2.16,>=2.15->tensorflow) (2.1.5)\n",
            "Requirement already satisfied: pyasn1<0.7.0,>=0.4.6 in /usr/local/lib/python3.10/dist-packages (from pyasn1-modules>=0.2.1->google-auth<3,>=1.6.3->tensorboard<2.16,>=2.15->tensorflow) (0.6.0)\n",
            "Requirement already satisfied: oauthlib>=3.0.0 in /usr/local/lib/python3.10/dist-packages (from requests-oauthlib>=0.7.0->google-auth-oauthlib<2,>=0.5->tensorboard<2.16,>=2.15->tensorflow) (3.2.2)\n",
            "Requirement already satisfied: keras in /usr/local/lib/python3.10/dist-packages (2.15.0)\n"
          ]
        }
      ]
    },
    {
      "cell_type": "code",
      "execution_count": 8,
      "metadata": {
        "colab": {
          "base_uri": "https://localhost:8080/",
          "height": 1000
        },
        "id": "hNbVVssbE2Rk",
        "outputId": "2ac72cc1-c068-4f16-e173-4d4dde739131"
      },
      "outputs": [
        {
          "output_type": "stream",
          "name": "stderr",
          "text": [
            "/usr/local/lib/python3.10/dist-packages/openwind/impedance_computation.py:237: UserWarning: The default temperature is 25 degrees Celsius.\n",
            "  warnings.warn('The default temperature is 25 degrees Celsius.')\n",
            "/usr/local/lib/python3.10/dist-packages/openwind/temporal_simulation.py:117: UserWarning: The default temperature is 25 degrees Celsius.\n",
            "  warnings.warn('The default temperature is 25 degrees Celsius.')\n"
          ]
        },
        {
          "output_type": "stream",
          "name": "stdout",
          "text": [
            "Using Theta scheme, theta = 0.25\n",
            "\n",
            "Starting simulation! (Current time is 15:14:03 (04/05/2024))\n",
            "n_steps = 44374\n",
            "26% : 2s remaining\n",
            "100%! Simulation ran for 3s, and stopped at 15:14:06 (04/05/2024).\n"
          ]
        },
        {
          "output_type": "stream",
          "name": "stderr",
          "text": [
            "/usr/local/lib/python3.10/dist-packages/openwind/impedance_computation.py:237: UserWarning: The default temperature is 25 degrees Celsius.\n",
            "  warnings.warn('The default temperature is 25 degrees Celsius.')\n",
            "/usr/local/lib/python3.10/dist-packages/openwind/temporal_simulation.py:117: UserWarning: The default temperature is 25 degrees Celsius.\n",
            "  warnings.warn('The default temperature is 25 degrees Celsius.')\n"
          ]
        },
        {
          "output_type": "stream",
          "name": "stdout",
          "text": [
            "Using Theta scheme, theta = 0.25\n",
            "\n",
            "Starting simulation! (Current time is 15:14:08 (04/05/2024))\n",
            "n_steps = 41253\n",
            "28% : 2s remaining\n",
            "100%! Simulation ran for 3s, and stopped at 15:14:11 (04/05/2024).\n"
          ]
        },
        {
          "output_type": "stream",
          "name": "stderr",
          "text": [
            "/usr/local/lib/python3.10/dist-packages/openwind/impedance_computation.py:237: UserWarning: The default temperature is 25 degrees Celsius.\n",
            "  warnings.warn('The default temperature is 25 degrees Celsius.')\n",
            "/usr/local/lib/python3.10/dist-packages/openwind/temporal_simulation.py:117: UserWarning: The default temperature is 25 degrees Celsius.\n",
            "  warnings.warn('The default temperature is 25 degrees Celsius.')\n"
          ]
        },
        {
          "output_type": "stream",
          "name": "stdout",
          "text": [
            "Using Theta scheme, theta = 0.25\n",
            "\n",
            "Starting simulation! (Current time is 15:14:14 (04/05/2024))\n",
            "n_steps = 43457\n",
            "18% : 4s remaining\n",
            "100%! Simulation ran for 3s, and stopped at 15:14:18 (04/05/2024).\n"
          ]
        },
        {
          "output_type": "stream",
          "name": "stderr",
          "text": [
            "/usr/local/lib/python3.10/dist-packages/openwind/impedance_computation.py:237: UserWarning: The default temperature is 25 degrees Celsius.\n",
            "  warnings.warn('The default temperature is 25 degrees Celsius.')\n",
            "/usr/local/lib/python3.10/dist-packages/openwind/temporal_simulation.py:117: UserWarning: The default temperature is 25 degrees Celsius.\n",
            "  warnings.warn('The default temperature is 25 degrees Celsius.')\n"
          ]
        },
        {
          "output_type": "stream",
          "name": "stdout",
          "text": [
            "Using Theta scheme, theta = 0.25\n",
            "\n",
            "Starting simulation! (Current time is 15:14:19 (04/05/2024))\n",
            "n_steps = 37979\n",
            "30% : 2s remaining\n",
            "100%! Simulation ran for 3s, and stopped at 15:14:23 (04/05/2024).\n"
          ]
        },
        {
          "output_type": "stream",
          "name": "stderr",
          "text": [
            "/usr/local/lib/python3.10/dist-packages/openwind/impedance_computation.py:237: UserWarning: The default temperature is 25 degrees Celsius.\n",
            "  warnings.warn('The default temperature is 25 degrees Celsius.')\n",
            "/usr/local/lib/python3.10/dist-packages/openwind/temporal_simulation.py:117: UserWarning: The default temperature is 25 degrees Celsius.\n",
            "  warnings.warn('The default temperature is 25 degrees Celsius.')\n"
          ]
        },
        {
          "output_type": "stream",
          "name": "stdout",
          "text": [
            "Using Theta scheme, theta = 0.25\n",
            "\n",
            "Starting simulation! (Current time is 15:14:24 (04/05/2024))\n",
            "n_steps = 42305\n",
            "21% : 3s remaining\n",
            "100%! Simulation ran for 4s, and stopped at 15:14:29 (04/05/2024).\n"
          ]
        },
        {
          "output_type": "stream",
          "name": "stderr",
          "text": [
            "/usr/local/lib/python3.10/dist-packages/openwind/impedance_computation.py:237: UserWarning: The default temperature is 25 degrees Celsius.\n",
            "  warnings.warn('The default temperature is 25 degrees Celsius.')\n",
            "/usr/local/lib/python3.10/dist-packages/openwind/temporal_simulation.py:117: UserWarning: The default temperature is 25 degrees Celsius.\n",
            "  warnings.warn('The default temperature is 25 degrees Celsius.')\n"
          ]
        },
        {
          "output_type": "stream",
          "name": "stdout",
          "text": [
            "Using Theta scheme, theta = 0.25\n",
            "\n",
            "Starting simulation! (Current time is 15:14:30 (04/05/2024))\n",
            "n_steps = 39388\n",
            "29% : 2s remaining\n",
            "100%! Simulation ran for 3s, and stopped at 15:14:34 (04/05/2024).\n"
          ]
        },
        {
          "output_type": "stream",
          "name": "stderr",
          "text": [
            "/usr/local/lib/python3.10/dist-packages/openwind/impedance_computation.py:237: UserWarning: The default temperature is 25 degrees Celsius.\n",
            "  warnings.warn('The default temperature is 25 degrees Celsius.')\n",
            "/usr/local/lib/python3.10/dist-packages/openwind/temporal_simulation.py:117: UserWarning: The default temperature is 25 degrees Celsius.\n",
            "  warnings.warn('The default temperature is 25 degrees Celsius.')\n"
          ]
        },
        {
          "output_type": "stream",
          "name": "stdout",
          "text": [
            "Using Theta scheme, theta = 0.25\n",
            "\n",
            "Starting simulation! (Current time is 15:14:35 (04/05/2024))\n",
            "n_steps = 41674\n",
            "28% : 2s remaining\n",
            "100%! Simulation ran for 4s, and stopped at 15:14:40 (04/05/2024).\n"
          ]
        },
        {
          "output_type": "stream",
          "name": "stderr",
          "text": [
            "/usr/local/lib/python3.10/dist-packages/openwind/impedance_computation.py:237: UserWarning: The default temperature is 25 degrees Celsius.\n",
            "  warnings.warn('The default temperature is 25 degrees Celsius.')\n",
            "/usr/local/lib/python3.10/dist-packages/openwind/temporal_simulation.py:117: UserWarning: The default temperature is 25 degrees Celsius.\n",
            "  warnings.warn('The default temperature is 25 degrees Celsius.')\n"
          ]
        },
        {
          "output_type": "stream",
          "name": "stdout",
          "text": [
            "Using Theta scheme, theta = 0.25\n",
            "\n",
            "Starting simulation! (Current time is 15:14:41 (04/05/2024))\n",
            "n_steps = 44216\n",
            "25% : 2s remaining\n",
            "100%! Simulation ran for 3s, and stopped at 15:14:45 (04/05/2024).\n"
          ]
        },
        {
          "output_type": "stream",
          "name": "stderr",
          "text": [
            "/usr/local/lib/python3.10/dist-packages/openwind/impedance_computation.py:237: UserWarning: The default temperature is 25 degrees Celsius.\n",
            "  warnings.warn('The default temperature is 25 degrees Celsius.')\n",
            "/usr/local/lib/python3.10/dist-packages/openwind/temporal_simulation.py:117: UserWarning: The default temperature is 25 degrees Celsius.\n",
            "  warnings.warn('The default temperature is 25 degrees Celsius.')\n"
          ]
        },
        {
          "output_type": "stream",
          "name": "stdout",
          "text": [
            "Using Theta scheme, theta = 0.25\n",
            "\n",
            "Starting simulation! (Current time is 15:14:46 (04/05/2024))\n",
            "n_steps = 43915\n",
            "26% : 2s remaining\n",
            "100%! Simulation ran for 3s, and stopped at 15:14:50 (04/05/2024).\n"
          ]
        },
        {
          "output_type": "stream",
          "name": "stderr",
          "text": [
            "/usr/local/lib/python3.10/dist-packages/openwind/impedance_computation.py:237: UserWarning: The default temperature is 25 degrees Celsius.\n",
            "  warnings.warn('The default temperature is 25 degrees Celsius.')\n",
            "/usr/local/lib/python3.10/dist-packages/openwind/temporal_simulation.py:117: UserWarning: The default temperature is 25 degrees Celsius.\n",
            "  warnings.warn('The default temperature is 25 degrees Celsius.')\n"
          ]
        },
        {
          "output_type": "stream",
          "name": "stdout",
          "text": [
            "Using Theta scheme, theta = 0.25\n",
            "\n",
            "Starting simulation! (Current time is 15:14:52 (04/05/2024))\n",
            "n_steps = 42700\n",
            "22% : 3s remaining\n",
            "100%! Simulation ran for 3s, and stopped at 15:14:56 (04/05/2024).\n"
          ]
        },
        {
          "output_type": "stream",
          "name": "stderr",
          "text": [
            "/usr/local/lib/python3.10/dist-packages/openwind/impedance_computation.py:237: UserWarning: The default temperature is 25 degrees Celsius.\n",
            "  warnings.warn('The default temperature is 25 degrees Celsius.')\n",
            "/usr/local/lib/python3.10/dist-packages/openwind/temporal_simulation.py:117: UserWarning: The default temperature is 25 degrees Celsius.\n",
            "  warnings.warn('The default temperature is 25 degrees Celsius.')\n"
          ]
        },
        {
          "output_type": "stream",
          "name": "stdout",
          "text": [
            "Using Theta scheme, theta = 0.25\n",
            "\n",
            "Starting simulation! (Current time is 15:14:58 (04/05/2024))\n",
            "n_steps = 39228\n",
            "29% : 2s remaining\n",
            "100%! Simulation ran for 3s, and stopped at 15:15:01 (04/05/2024).\n"
          ]
        },
        {
          "output_type": "stream",
          "name": "stderr",
          "text": [
            "/usr/local/lib/python3.10/dist-packages/openwind/impedance_computation.py:237: UserWarning: The default temperature is 25 degrees Celsius.\n",
            "  warnings.warn('The default temperature is 25 degrees Celsius.')\n",
            "/usr/local/lib/python3.10/dist-packages/openwind/temporal_simulation.py:117: UserWarning: The default temperature is 25 degrees Celsius.\n",
            "  warnings.warn('The default temperature is 25 degrees Celsius.')\n"
          ]
        },
        {
          "output_type": "stream",
          "name": "stdout",
          "text": [
            "Using Theta scheme, theta = 0.25\n",
            "\n",
            "Starting simulation! (Current time is 15:15:02 (04/05/2024))\n",
            "n_steps = 41759\n",
            "18% : 4s remaining\n",
            "76% : 1s remaining\n",
            "100%! Simulation ran for 7s, and stopped at 15:15:10 (04/05/2024).\n"
          ]
        },
        {
          "output_type": "stream",
          "name": "stderr",
          "text": [
            "/usr/local/lib/python3.10/dist-packages/openwind/impedance_computation.py:237: UserWarning: The default temperature is 25 degrees Celsius.\n",
            "  warnings.warn('The default temperature is 25 degrees Celsius.')\n",
            "/usr/local/lib/python3.10/dist-packages/openwind/temporal_simulation.py:117: UserWarning: The default temperature is 25 degrees Celsius.\n",
            "  warnings.warn('The default temperature is 25 degrees Celsius.')\n"
          ]
        },
        {
          "output_type": "stream",
          "name": "stdout",
          "text": [
            "Using Theta scheme, theta = 0.25\n",
            "\n",
            "Starting simulation! (Current time is 15:15:12 (04/05/2024))\n",
            "n_steps = 38488\n",
            "30% : 2s remaining\n",
            "100%! Simulation ran for 3s, and stopped at 15:15:15 (04/05/2024).\n"
          ]
        },
        {
          "output_type": "stream",
          "name": "stderr",
          "text": [
            "/usr/local/lib/python3.10/dist-packages/openwind/impedance_computation.py:237: UserWarning: The default temperature is 25 degrees Celsius.\n",
            "  warnings.warn('The default temperature is 25 degrees Celsius.')\n",
            "/usr/local/lib/python3.10/dist-packages/openwind/temporal_simulation.py:117: UserWarning: The default temperature is 25 degrees Celsius.\n",
            "  warnings.warn('The default temperature is 25 degrees Celsius.')\n"
          ]
        },
        {
          "output_type": "stream",
          "name": "stdout",
          "text": [
            "Using Theta scheme, theta = 0.25\n",
            "\n",
            "Starting simulation! (Current time is 15:15:17 (04/05/2024))\n",
            "n_steps = 43218\n",
            "16% : 5s remaining\n",
            "100%! Simulation ran for 4s, and stopped at 15:15:21 (04/05/2024).\n"
          ]
        },
        {
          "output_type": "stream",
          "name": "stderr",
          "text": [
            "/usr/local/lib/python3.10/dist-packages/openwind/impedance_computation.py:237: UserWarning: The default temperature is 25 degrees Celsius.\n",
            "  warnings.warn('The default temperature is 25 degrees Celsius.')\n",
            "/usr/local/lib/python3.10/dist-packages/openwind/temporal_simulation.py:117: UserWarning: The default temperature is 25 degrees Celsius.\n",
            "  warnings.warn('The default temperature is 25 degrees Celsius.')\n"
          ]
        },
        {
          "output_type": "stream",
          "name": "stdout",
          "text": [
            "Using Theta scheme, theta = 0.25\n",
            "\n",
            "Starting simulation! (Current time is 15:15:23 (04/05/2024))\n",
            "n_steps = 44623\n",
            "26% : 2s remaining\n",
            "100%! Simulation ran for 3s, and stopped at 15:15:27 (04/05/2024).\n"
          ]
        },
        {
          "output_type": "stream",
          "name": "stderr",
          "text": [
            "/usr/local/lib/python3.10/dist-packages/openwind/impedance_computation.py:237: UserWarning: The default temperature is 25 degrees Celsius.\n",
            "  warnings.warn('The default temperature is 25 degrees Celsius.')\n",
            "/usr/local/lib/python3.10/dist-packages/openwind/temporal_simulation.py:117: UserWarning: The default temperature is 25 degrees Celsius.\n",
            "  warnings.warn('The default temperature is 25 degrees Celsius.')\n"
          ]
        },
        {
          "output_type": "stream",
          "name": "stdout",
          "text": [
            "Using Theta scheme, theta = 0.25\n",
            "\n",
            "Starting simulation! (Current time is 15:15:28 (04/05/2024))\n",
            "n_steps = 44323\n",
            "24% : 3s remaining\n",
            "100%! Simulation ran for 4s, and stopped at 15:15:33 (04/05/2024).\n"
          ]
        },
        {
          "output_type": "stream",
          "name": "stderr",
          "text": [
            "/usr/local/lib/python3.10/dist-packages/openwind/impedance_computation.py:237: UserWarning: The default temperature is 25 degrees Celsius.\n",
            "  warnings.warn('The default temperature is 25 degrees Celsius.')\n",
            "/usr/local/lib/python3.10/dist-packages/openwind/temporal_simulation.py:117: UserWarning: The default temperature is 25 degrees Celsius.\n",
            "  warnings.warn('The default temperature is 25 degrees Celsius.')\n"
          ]
        },
        {
          "output_type": "stream",
          "name": "stdout",
          "text": [
            "Using Theta scheme, theta = 0.25\n",
            "\n",
            "Starting simulation! (Current time is 15:15:34 (04/05/2024))\n",
            "n_steps = 41796\n",
            "26% : 2s remaining\n",
            "100%! Simulation ran for 3s, and stopped at 15:15:38 (04/05/2024).\n"
          ]
        },
        {
          "output_type": "stream",
          "name": "stderr",
          "text": [
            "/usr/local/lib/python3.10/dist-packages/openwind/impedance_computation.py:237: UserWarning: The default temperature is 25 degrees Celsius.\n",
            "  warnings.warn('The default temperature is 25 degrees Celsius.')\n",
            "/usr/local/lib/python3.10/dist-packages/openwind/temporal_simulation.py:117: UserWarning: The default temperature is 25 degrees Celsius.\n",
            "  warnings.warn('The default temperature is 25 degrees Celsius.')\n"
          ]
        },
        {
          "output_type": "stream",
          "name": "stdout",
          "text": [
            "Using Theta scheme, theta = 0.25\n",
            "\n",
            "Starting simulation! (Current time is 15:15:40 (04/05/2024))\n",
            "n_steps = 47645\n",
            "24% : 3s remaining\n",
            "100%! Simulation ran for 5s, and stopped at 15:15:45 (04/05/2024).\n"
          ]
        },
        {
          "output_type": "stream",
          "name": "stderr",
          "text": [
            "/usr/local/lib/python3.10/dist-packages/openwind/impedance_computation.py:237: UserWarning: The default temperature is 25 degrees Celsius.\n",
            "  warnings.warn('The default temperature is 25 degrees Celsius.')\n",
            "/usr/local/lib/python3.10/dist-packages/openwind/temporal_simulation.py:117: UserWarning: The default temperature is 25 degrees Celsius.\n",
            "  warnings.warn('The default temperature is 25 degrees Celsius.')\n"
          ]
        },
        {
          "output_type": "stream",
          "name": "stdout",
          "text": [
            "Using Theta scheme, theta = 0.25\n",
            "\n",
            "Starting simulation! (Current time is 15:15:47 (04/05/2024))\n",
            "n_steps = 44731\n",
            "25% : 2s remaining\n",
            "100%! Simulation ran for 3s, and stopped at 15:15:51 (04/05/2024).\n"
          ]
        },
        {
          "output_type": "stream",
          "name": "stderr",
          "text": [
            "/usr/local/lib/python3.10/dist-packages/openwind/impedance_computation.py:237: UserWarning: The default temperature is 25 degrees Celsius.\n",
            "  warnings.warn('The default temperature is 25 degrees Celsius.')\n"
          ]
        },
        {
          "output_type": "error",
          "ename": "ValueError",
          "evalue": "The pipe length of the bore1 is not positive:0.00e+00 m",
          "traceback": [
            "\u001b[0;31m---------------------------------------------------------------------------\u001b[0m",
            "\u001b[0;31mValueError\u001b[0m                                Traceback (most recent call last)",
            "\u001b[0;32m<ipython-input-8-9e037a34af12>\u001b[0m in \u001b[0;36m<cell line: 23>\u001b[0;34m()\u001b[0m\n\u001b[1;32m     28\u001b[0m \u001b[0;34m\u001b[0m\u001b[0m\n\u001b[1;32m     29\u001b[0m     \u001b[0;31m# Compute the impedance of the instrument\u001b[0m\u001b[0;34m\u001b[0m\u001b[0;34m\u001b[0m\u001b[0m\n\u001b[0;32m---> 30\u001b[0;31m     \u001b[0mresult\u001b[0m \u001b[0;34m=\u001b[0m \u001b[0mopenwind\u001b[0m\u001b[0;34m.\u001b[0m\u001b[0mImpedanceComputation\u001b[0m\u001b[0;34m(\u001b[0m\u001b[0mfrequencies\u001b[0m\u001b[0;34m,\u001b[0m \u001b[0mdata\u001b[0m\u001b[0;34m)\u001b[0m\u001b[0;34m\u001b[0m\u001b[0;34m\u001b[0m\u001b[0m\n\u001b[0m\u001b[1;32m     31\u001b[0m \u001b[0;34m\u001b[0m\u001b[0m\n\u001b[1;32m     32\u001b[0m     \u001b[0;31m# Get the impedance data directly from the result\u001b[0m\u001b[0;34m\u001b[0m\u001b[0;34m\u001b[0m\u001b[0m\n",
            "\u001b[0;32m/usr/local/lib/python3.10/dist-packages/openwind/impedance_computation.py\u001b[0m in \u001b[0;36m__init__\u001b[0;34m(self, frequencies, main_bore, holes_valves, fingering_chart, unit, diameter, player, temperature, losses, nondim, radiation_category, spherical_waves, discontinuity_mass, matching_volume, compute_method, l_ele, order, nb_sub, note, use_rad1dof, diff_repr_vars, interp, interp_grid, **kwargs)\u001b[0m\n\u001b[1;32m    267\u001b[0m \u001b[0;34m\u001b[0m\u001b[0m\n\u001b[1;32m    268\u001b[0m         \u001b[0;31m# tic = timeit.default_timer()\u001b[0m\u001b[0;34m\u001b[0m\u001b[0;34m\u001b[0m\u001b[0m\n\u001b[0;32m--> 269\u001b[0;31m         self.__freq_model = FrequentialSolver(self.__instru_physics, frequencies,\n\u001b[0m\u001b[1;32m    270\u001b[0m                                               **self._freq_options)\n\u001b[1;32m    271\u001b[0m         \u001b[0mself\u001b[0m\u001b[0;34m.\u001b[0m\u001b[0mfrequencies\u001b[0m \u001b[0;34m=\u001b[0m \u001b[0mself\u001b[0m\u001b[0;34m.\u001b[0m\u001b[0m__freq_model\u001b[0m\u001b[0;34m.\u001b[0m\u001b[0mfrequencies\u001b[0m\u001b[0;34m\u001b[0m\u001b[0;34m\u001b[0m\u001b[0m\n",
            "\u001b[0;32m/usr/local/lib/python3.10/dist-packages/openwind/frequential/frequential_solver.py\u001b[0m in \u001b[0;36m__init__\u001b[0;34m(self, instru_physics, frequencies, diffus_repr_var, note, compute_method, use_rad1dof, **discr_params)\u001b[0m\n\u001b[1;32m    156\u001b[0m \u001b[0;34m\u001b[0m\u001b[0m\n\u001b[1;32m    157\u001b[0m         \u001b[0;31m# discretize the netlist components and set their frequencial properties\u001b[0m\u001b[0;34m\u001b[0m\u001b[0;34m\u001b[0m\u001b[0m\n\u001b[0;32m--> 158\u001b[0;31m         \u001b[0mself\u001b[0m\u001b[0;34m.\u001b[0m\u001b[0m_convert_frequential_components\u001b[0m\u001b[0;34m(\u001b[0m\u001b[0;34m)\u001b[0m\u001b[0;34m\u001b[0m\u001b[0;34m\u001b[0m\u001b[0m\n\u001b[0m\u001b[1;32m    159\u001b[0m \u001b[0;34m\u001b[0m\u001b[0m\n\u001b[1;32m    160\u001b[0m         \u001b[0;31m# organize the components in the big matrix\u001b[0m\u001b[0;34m\u001b[0m\u001b[0;34m\u001b[0m\u001b[0m\n",
            "\u001b[0;32m/usr/local/lib/python3.10/dist-packages/openwind/frequential/frequential_solver.py\u001b[0m in \u001b[0;36m_convert_frequential_components\u001b[0;34m(self)\u001b[0m\n\u001b[1;32m    437\u001b[0m \u001b[0;34m\u001b[0m\u001b[0m\n\u001b[1;32m    438\u001b[0m         \u001b[0mself\u001b[0m\u001b[0;34m.\u001b[0m\u001b[0mf_pipes\u001b[0m\u001b[0;34m,\u001b[0m \u001b[0mself\u001b[0m\u001b[0;34m.\u001b[0m\u001b[0mf_connectors\u001b[0m \u001b[0;34m=\u001b[0m\u001b[0;31m \u001b[0m\u001b[0;31m\\\u001b[0m\u001b[0;34m\u001b[0m\u001b[0;34m\u001b[0m\u001b[0m\n\u001b[0;32m--> 439\u001b[0;31m             self.netlist.convert_with_structure(self._convert_pipe,\n\u001b[0m\u001b[1;32m    440\u001b[0m                                                 self._convert_connector)\n\u001b[1;32m    441\u001b[0m \u001b[0;34m\u001b[0m\u001b[0m\n",
            "\u001b[0;32m/usr/local/lib/python3.10/dist-packages/openwind/continuous/netlist.py\u001b[0m in \u001b[0;36mconvert_with_structure\u001b[0;34m(self, convert_pipe, convert_connector)\u001b[0m\n\u001b[1;32m    507\u001b[0m         \u001b[0;32mfor\u001b[0m \u001b[0mlabel\u001b[0m \u001b[0;32min\u001b[0m \u001b[0mself\u001b[0m\u001b[0;34m.\u001b[0m\u001b[0mpipes\u001b[0m\u001b[0;34m:\u001b[0m\u001b[0;34m\u001b[0m\u001b[0;34m\u001b[0m\u001b[0m\n\u001b[1;32m    508\u001b[0m             \u001b[0mpipe\u001b[0m\u001b[0;34m,\u001b[0m \u001b[0mends\u001b[0m \u001b[0;34m=\u001b[0m \u001b[0mself\u001b[0m\u001b[0;34m.\u001b[0m\u001b[0mpipes\u001b[0m\u001b[0;34m[\u001b[0m\u001b[0mlabel\u001b[0m\u001b[0;34m]\u001b[0m\u001b[0;34m\u001b[0m\u001b[0;34m\u001b[0m\u001b[0m\n\u001b[0;32m--> 509\u001b[0;31m             \u001b[0ms_pipe\u001b[0m \u001b[0;34m=\u001b[0m \u001b[0mconvert_pipe\u001b[0m\u001b[0;34m(\u001b[0m\u001b[0mpipe\u001b[0m\u001b[0;34m)\u001b[0m\u001b[0;34m\u001b[0m\u001b[0;34m\u001b[0m\u001b[0m\n\u001b[0m\u001b[1;32m    510\u001b[0m             \u001b[0mspecial_pipes\u001b[0m\u001b[0;34m[\u001b[0m\u001b[0mlabel\u001b[0m\u001b[0;34m]\u001b[0m \u001b[0;34m=\u001b[0m \u001b[0ms_pipe\u001b[0m\u001b[0;34m\u001b[0m\u001b[0;34m\u001b[0m\u001b[0m\n\u001b[1;32m    511\u001b[0m             \u001b[0;32mtry\u001b[0m\u001b[0;34m:\u001b[0m\u001b[0;34m\u001b[0m\u001b[0;34m\u001b[0m\u001b[0m\n",
            "\u001b[0;32m/usr/local/lib/python3.10/dist-packages/openwind/frequential/frequential_solver.py\u001b[0m in \u001b[0;36m_convert_pipe\u001b[0;34m(self, pipe)\u001b[0m\n\u001b[1;32m    355\u001b[0m                 isinstance(pipe.get_losses(), ThermoviscousDiffusiveRepresentation)):\n\u001b[1;32m    356\u001b[0m                 \u001b[0;32mreturn\u001b[0m \u001b[0mFrequentialPipeDiffusiveRepresentation\u001b[0m\u001b[0;34m(\u001b[0m\u001b[0mpipe\u001b[0m\u001b[0;34m,\u001b[0m \u001b[0;34m**\u001b[0m\u001b[0mparams_fem\u001b[0m\u001b[0;34m)\u001b[0m\u001b[0;34m\u001b[0m\u001b[0;34m\u001b[0m\u001b[0m\n\u001b[0;32m--> 357\u001b[0;31m             \u001b[0;32mreturn\u001b[0m \u001b[0mFrequentialPipeFEM\u001b[0m\u001b[0;34m(\u001b[0m\u001b[0mpipe\u001b[0m\u001b[0;34m,\u001b[0m \u001b[0;34m**\u001b[0m\u001b[0mparams_fem\u001b[0m\u001b[0;34m)\u001b[0m\u001b[0;34m\u001b[0m\u001b[0;34m\u001b[0m\u001b[0m\n\u001b[0m\u001b[1;32m    358\u001b[0m         \u001b[0;32melif\u001b[0m \u001b[0mself\u001b[0m\u001b[0;34m.\u001b[0m\u001b[0mcompute_method\u001b[0m \u001b[0;34m==\u001b[0m \u001b[0;34m'modal'\u001b[0m\u001b[0;34m:\u001b[0m\u001b[0;34m\u001b[0m\u001b[0;34m\u001b[0m\u001b[0m\n\u001b[1;32m    359\u001b[0m             \u001b[0;31m# verify that the chosen model is compatible for modal\u001b[0m\u001b[0;34m\u001b[0m\u001b[0;34m\u001b[0m\u001b[0m\n",
            "\u001b[0;32m/usr/local/lib/python3.10/dist-packages/openwind/frequential/frequential_pipe_fem.py\u001b[0m in \u001b[0;36m__init__\u001b[0;34m(self, pipe, **kwargs)\u001b[0m\n\u001b[1;32m    152\u001b[0m \u001b[0;34m\u001b[0m\u001b[0m\n\u001b[1;32m    153\u001b[0m     \u001b[0;32mdef\u001b[0m \u001b[0m__init__\u001b[0m\u001b[0;34m(\u001b[0m\u001b[0mself\u001b[0m\u001b[0;34m,\u001b[0m \u001b[0mpipe\u001b[0m\u001b[0;34m,\u001b[0m \u001b[0;34m**\u001b[0m\u001b[0mkwargs\u001b[0m\u001b[0;34m)\u001b[0m\u001b[0;34m:\u001b[0m\u001b[0;34m\u001b[0m\u001b[0;34m\u001b[0m\u001b[0m\n\u001b[0;32m--> 154\u001b[0;31m         \u001b[0mDiscretizedPipe\u001b[0m\u001b[0;34m.\u001b[0m\u001b[0m__init__\u001b[0m\u001b[0;34m(\u001b[0m\u001b[0mself\u001b[0m\u001b[0;34m,\u001b[0m \u001b[0mpipe\u001b[0m\u001b[0;34m,\u001b[0m \u001b[0;34m**\u001b[0m\u001b[0mkwargs\u001b[0m\u001b[0;34m)\u001b[0m\u001b[0;34m\u001b[0m\u001b[0;34m\u001b[0m\u001b[0m\n\u001b[0m\u001b[1;32m    155\u001b[0m         \u001b[0mself\u001b[0m\u001b[0;34m.\u001b[0m\u001b[0mend_minus\u001b[0m \u001b[0;34m=\u001b[0m \u001b[0mFPipeEnd\u001b[0m\u001b[0;34m(\u001b[0m\u001b[0mself\u001b[0m\u001b[0;34m,\u001b[0m \u001b[0mEndPos\u001b[0m\u001b[0;34m.\u001b[0m\u001b[0mMINUS\u001b[0m\u001b[0;34m)\u001b[0m\u001b[0;34m\u001b[0m\u001b[0;34m\u001b[0m\u001b[0m\n\u001b[1;32m    156\u001b[0m         \u001b[0mself\u001b[0m\u001b[0;34m.\u001b[0m\u001b[0mend_plus\u001b[0m \u001b[0;34m=\u001b[0m \u001b[0mFPipeEnd\u001b[0m\u001b[0;34m(\u001b[0m\u001b[0mself\u001b[0m\u001b[0;34m,\u001b[0m \u001b[0mEndPos\u001b[0m\u001b[0;34m.\u001b[0m\u001b[0mPLUS\u001b[0m\u001b[0;34m)\u001b[0m\u001b[0;34m\u001b[0m\u001b[0;34m\u001b[0m\u001b[0m\n",
            "\u001b[0;32m/usr/local/lib/python3.10/dist-packages/openwind/discretization/discretized_pipe.py\u001b[0m in \u001b[0;36m__init__\u001b[0;34m(self, pipe, **kwargs)\u001b[0m\n\u001b[1;32m     87\u001b[0m         \u001b[0mself\u001b[0m\u001b[0;34m.\u001b[0m\u001b[0mpipe\u001b[0m \u001b[0;34m=\u001b[0m \u001b[0mpipe\u001b[0m\u001b[0;34m\u001b[0m\u001b[0;34m\u001b[0m\u001b[0m\n\u001b[1;32m     88\u001b[0m         \u001b[0mself\u001b[0m\u001b[0;34m.\u001b[0m\u001b[0mconvention\u001b[0m \u001b[0;34m=\u001b[0m \u001b[0mpipe\u001b[0m\u001b[0;34m.\u001b[0m\u001b[0mget_convention\u001b[0m\u001b[0;34m(\u001b[0m\u001b[0;34m)\u001b[0m\u001b[0;34m\u001b[0m\u001b[0;34m\u001b[0m\u001b[0m\n\u001b[0;32m---> 89\u001b[0;31m         \u001b[0mself\u001b[0m\u001b[0;34m.\u001b[0m\u001b[0mmesh\u001b[0m \u001b[0;34m=\u001b[0m \u001b[0mMesh\u001b[0m\u001b[0;34m(\u001b[0m\u001b[0mpipe\u001b[0m\u001b[0;34m,\u001b[0m \u001b[0;34m**\u001b[0m\u001b[0mkwargs\u001b[0m\u001b[0;34m)\u001b[0m\u001b[0;34m\u001b[0m\u001b[0;34m\u001b[0m\u001b[0m\n\u001b[0m\u001b[1;32m     90\u001b[0m \u001b[0;34m\u001b[0m\u001b[0m\n\u001b[1;32m     91\u001b[0m         \u001b[0mself\u001b[0m\u001b[0;34m.\u001b[0m\u001b[0mnL2\u001b[0m \u001b[0;34m=\u001b[0m \u001b[0mself\u001b[0m\u001b[0;34m.\u001b[0m\u001b[0mmesh\u001b[0m\u001b[0;34m.\u001b[0m\u001b[0mget_nL2\u001b[0m\u001b[0;34m(\u001b[0m\u001b[0;34m)\u001b[0m\u001b[0;34m\u001b[0m\u001b[0;34m\u001b[0m\u001b[0m\n",
            "\u001b[0;32m/usr/local/lib/python3.10/dist-packages/openwind/discretization/mesh.py\u001b[0m in \u001b[0;36m__init__\u001b[0;34m(self, pipe, l_ele, order, shortestLbd, dofPerLbd)\u001b[0m\n\u001b[1;32m     72\u001b[0m                  dofPerLbd=10):\n\u001b[1;32m     73\u001b[0m         \u001b[0;32mif\u001b[0m \u001b[0mpipe\u001b[0m\u001b[0;34m.\u001b[0m\u001b[0mget_length\u001b[0m\u001b[0;34m(\u001b[0m\u001b[0;34m)\u001b[0m \u001b[0;34m<=\u001b[0m \u001b[0;36m0\u001b[0m\u001b[0;34m:\u001b[0m\u001b[0;34m\u001b[0m\u001b[0;34m\u001b[0m\u001b[0m\n\u001b[0;32m---> 74\u001b[0;31m             raise ValueError('The pipe length of the {} is not positive:'\n\u001b[0m\u001b[1;32m     75\u001b[0m                              '{:.2e} m'.format(pipe.label, pipe.get_length()))\n\u001b[1;32m     76\u001b[0m         \u001b[0;32mif\u001b[0m \u001b[0ml_ele\u001b[0m \u001b[0;32mis\u001b[0m \u001b[0;32mnot\u001b[0m \u001b[0;32mNone\u001b[0m\u001b[0;34m:\u001b[0m\u001b[0;34m\u001b[0m\u001b[0;34m\u001b[0m\u001b[0m\n",
            "\u001b[0;31mValueError\u001b[0m: The pipe length of the bore1 is not positive:0.00e+00 m"
          ]
        }
      ],
      "source": [
        "# Import necessary libraries\n",
        "import numpy as np\n",
        "import matplotlib.pyplot as plt\n",
        "import openwind\n",
        "from tensorflow.keras.models import Model\n",
        "from tensorflow.keras.layers import Input, Conv1D\n",
        "from openwind.temporal.utils import export_mono\n",
        "import os\n",
        "\n",
        "# Define the frequency domain for simulation\n",
        "frequencies = np.arange(50,2000,1)\n",
        "\n",
        "# Define the player\n",
        "my_player = openwind.Player(\"TUTORIAL_REED\")\n",
        "\n",
        "# Initialize your data\n",
        "X = []\n",
        "y = []\n",
        "\n",
        "# Define the range of your artificial data\n",
        "data_range = np.linspace(0.1, 1.335, 20)  # Start from 0.01 to avoid ZeroDivisionError\n",
        "\n",
        "for i in data_range:\n",
        "    # Generate the instrument geometry\n",
        "    data = [[0.0, i, 6e-3, 6e-3, 'linear'],\n",
        "            [i, 1.335, 6e-3, 6e-2, 'bessel', 0.7]]\n",
        "\n",
        "\n",
        "    # Compute the impedance of the instrument\n",
        "    result = openwind.ImpedanceComputation(frequencies, data, temperature=25)\n",
        "\n",
        "    # Get the impedance data directly from the result\n",
        "    impedance_data = result.impedance  # Replace with the correct attribute/method to get the impedance data\n",
        "\n",
        "    # Run a short simulation\n",
        "    simulation = openwind.simulate(0.5, data, player=my_player)\n",
        "\n",
        "    # Get the simulation result\n",
        "    simulation_data = simulation.values['bell_radiation_pressure']\n",
        "\n",
        "    # Prepare your data for the deep learning model\n",
        "    X.append(impedance_data)  # Use the impedance data as input features\n",
        "    y.append(simulation_data)  # Use the radiation pressure as the target variable\n",
        "\n",
        "\n",
        "# Convert your data to numpy arrays\n",
        "X = np.array(X)\n",
        "y = np.array(y)\n",
        "\n",
        "# Define your model after data has been appended to X\n",
        "inputs = Input(shape=(None, len(X[0][0])))\n",
        "x = Conv1D(32, 3, activation='relu')(inputs)\n",
        "x = Conv1D(32, 3, activation='relu')(x)\n",
        "outputs = Conv1D(1, 1, activation='tanh')(x)\n",
        "\n",
        "model = Model(inputs=inputs, outputs=outputs)\n",
        "\n",
        "# Compile your model\n",
        "model.compile(loss='mean_squared_error', optimizer='adam')\n",
        "\n",
        "# Train your model on each set of features and target variables\n",
        "for features, target in zip(X, y):\n",
        "    model.fit(features, target, epochs=10, batch_size=32)\n",
        "\n",
        "# Now you can use this model to make predictions\n",
        "predictions = [model.predict(features) for features in X]\n"
      ]
    }
  ]
}